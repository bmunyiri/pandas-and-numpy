{
 "cells": [
  {
   "cell_type": "code",
   "execution_count": 2,
   "id": "cac0e703",
   "metadata": {},
   "outputs": [
    {
     "name": "stdout",
     "output_type": "stream",
     "text": [
      "Your Name ?John\n",
      "John\n"
     ]
    }
   ],
   "source": [
    "firstName = input( \"Your Name ?\" )\n",
    "print(firstName)\n"
   ]
  },
  {
   "cell_type": "code",
   "execution_count": 5,
   "id": "e4f6d817",
   "metadata": {},
   "outputs": [
    {
     "name": "stdout",
     "output_type": "stream",
     "text": [
      " First Number 38\n",
      "Second Number 23\n",
      "-------\n",
      "Total 61\n"
     ]
    }
   ],
   "source": [
    "num1 = int(input(\" First Number \"))\n",
    "num2 = int(input(\"Second Number \"))\n",
    "total = num1 + num2\n",
    "print(\"-------\")\n",
    "print(\"Total\",total)"
   ]
  },
  {
   "cell_type": "code",
   "execution_count": 8,
   "id": "630d1dcc",
   "metadata": {},
   "outputs": [
    {
     "name": "stdout",
     "output_type": "stream",
     "text": [
      "20\n",
      "20\n"
     ]
    }
   ],
   "source": [
    "grid = [[10,20],[20,30]]\n",
    "print(grid[0][1])\n",
    "print(grid[1][0])"
   ]
  },
  {
   "cell_type": "code",
   "execution_count": 2,
   "id": "98899c24",
   "metadata": {},
   "outputs": [
    {
     "name": "stdout",
     "output_type": "stream",
     "text": [
      "['mango', 'orange']\n"
     ]
    }
   ],
   "source": [
    "fruits =[\"mango\",\"orange\"]\n",
    "print(fruits)"
   ]
  },
  {
   "cell_type": "code",
   "execution_count": 3,
   "id": "c3a5cba7",
   "metadata": {},
   "outputs": [
    {
     "name": "stdout",
     "output_type": "stream",
     "text": [
      "['mango', 'orange', 'peach']\n"
     ]
    }
   ],
   "source": [
    "fruits.append(\"peach\")\n",
    "print(fruits)"
   ]
  },
  {
   "cell_type": "code",
   "execution_count": 11,
   "id": "f99ad62f",
   "metadata": {},
   "outputs": [
    {
     "name": "stdout",
     "output_type": "stream",
     "text": [
      "['mango', 'orange', 'peach']\n"
     ]
    }
   ],
   "source": [
    "fruits.append(\"peach\")\n",
    "print(fruits)"
   ]
  },
  {
   "cell_type": "code",
   "execution_count": 6,
   "id": "8b40d349",
   "metadata": {},
   "outputs": [
    {
     "name": "stdout",
     "output_type": "stream",
     "text": [
      "['mango', 'passsion', 'orange', 'peach']\n"
     ]
    }
   ],
   "source": [
    "fruits.insert(1,\"passsion\")\n",
    "print(fruits)"
   ]
  },
  {
   "cell_type": "code",
   "execution_count": 8,
   "id": "2f4efba4",
   "metadata": {},
   "outputs": [
    {
     "name": "stdout",
     "output_type": "stream",
     "text": [
      "['mango', ['passsion', 'banana'], 'passsion', 'orange', 'peach']\n"
     ]
    }
   ],
   "source": [
    "fruits.insert(1,[ \"passsion\",\"banana\"])\n",
    "print(fruits)"
   ]
  },
  {
   "cell_type": "code",
   "execution_count": 9,
   "id": "e35d6df6",
   "metadata": {},
   "outputs": [
    {
     "name": "stdout",
     "output_type": "stream",
     "text": [
      "['mango', ['passsion', 'banana'], 'passsion', 'passsion', 'orange', 'peach']\n"
     ]
    }
   ],
   "source": [
    "fruits.insert(3,\"passsion\")\n",
    "print(fruits)"
   ]
  },
  {
   "cell_type": "code",
   "execution_count": 14,
   "id": "ccd2d1e8",
   "metadata": {},
   "outputs": [
    {
     "name": "stdout",
     "output_type": "stream",
     "text": [
      "150\n"
     ]
    }
   ],
   "source": [
    "def adder(num1,num2):\n",
    "    total  = num1 + num2\n",
    "    return total \n",
    " \n",
    "total = adder(67,83)\n",
    "print(total)"
   ]
  },
  {
   "cell_type": "code",
   "execution_count": 17,
   "id": "0287b7e7",
   "metadata": {},
   "outputs": [
    {
     "name": "stdout",
     "output_type": "stream",
     "text": [
      "150\n"
     ]
    }
   ],
   "source": [
    "def adder(num1,num2):\n",
    "    return num1 + num2\n",
    " \n",
    "sum = adder(67,83)\n",
    "print(sum)"
   ]
  },
  {
   "cell_type": "code",
   "execution_count": 20,
   "id": "59efe14d",
   "metadata": {},
   "outputs": [
    {
     "name": "stdout",
     "output_type": "stream",
     "text": [
      "Out of Order\n"
     ]
    }
   ],
   "source": [
    "isBlack = True\n",
    "isRed = True\n",
    "\n",
    "if (isBlack ) and (isRed ):\n",
    "    lights = \"Out of Order\"\n",
    "elif not(isBlack ) and (isRed):\n",
    "    lights = \"STOP !\"\n",
    "elif not(isBlack ) and not(isRed ):\n",
    "    lights = \"No Lights\"\n",
    "    \n",
    "print(lights)\n",
    "    "
   ]
  },
  {
   "cell_type": "code",
   "execution_count": 15,
   "id": "01f39603",
   "metadata": {},
   "outputs": [
    {
     "name": "stdout",
     "output_type": "stream",
     "text": [
      "A\n",
      "B+\n",
      "{'John': 'A', 'Mary': 'B+', 'Paul': 'C'}\n",
      "{'John': 'A', 'Mary': 'B+', 'Paul': 'C', 'Tim': 'F'}\n",
      "{'John': 'A', 'Mary': 'B+', 'Tim': 'F'}\n",
      "{'John': 'A', 'Mary': 'B+', 'Tim': 'F', 'Francis': 'A'}\n"
     ]
    }
   ],
   "source": [
    "grades ={\n",
    "    \"John\":\"A\",\n",
    "    \"Mary\":\"B+\",\n",
    "     \"Paul\":\"C\"\n",
    "}\n",
    "print(grades[\"John\"])\n",
    "print(grades.get(\"Mary\"))\n",
    "print(grades)\n",
    "grades[\"Tim\"]=\"F\"\n",
    "print(grades)\n",
    "del grades[\"Paul\"]\n",
    "print(grades)\n",
    "grades.update({\"Francis\":\"A\"})\n",
    "print(grades)\n"
   ]
  },
  {
   "cell_type": "code",
   "execution_count": 46,
   "id": "198230f0",
   "metadata": {},
   "outputs": [
    {
     "name": "stdout",
     "output_type": "stream",
     "text": [
      "dict_keys(['John', 'Mary', 'Tim', 'Francis'])\n",
      "dict_values(['A', 'B+', 'F', 'A'])\n",
      "dict_items([('John', 'A'), ('Mary', 'B+'), ('Tim', 'F'), ('Francis', 'A')])\n"
     ]
    }
   ],
   "source": [
    "print(grades.keys())\n",
    "print(grades.values())\n",
    "print(grades.items())"
   ]
  },
  {
   "cell_type": "code",
   "execution_count": 52,
   "id": "1a3a9a13",
   "metadata": {},
   "outputs": [
    {
     "name": "stdout",
     "output_type": "stream",
     "text": [
      "John A\n",
      "Mary B+\n",
      "Tim F\n",
      "Francis A\n"
     ]
    }
   ],
   "source": [
    "for (key,value) in grades.items():\n",
    "    print(key,value)\n",
    "    \n"
   ]
  },
  {
   "cell_type": "code",
   "execution_count": 2,
   "id": "efd1836c",
   "metadata": {},
   "outputs": [
    {
     "name": "stdout",
     "output_type": "stream",
     "text": [
      "1\n",
      "2\n",
      "3\n",
      "4\n",
      "5\n",
      "6\n",
      "7\n",
      "8\n",
      "9\n"
     ]
    }
   ],
   "source": [
    "index = 1\n",
    "while index < 10:\n",
    "    print(index)\n",
    "    index +=1\n",
    "     \n",
    "    \n",
    "    "
   ]
  },
  {
   "cell_type": "code",
   "execution_count": 1,
   "id": "6217535b",
   "metadata": {},
   "outputs": [
    {
     "name": "stdout",
     "output_type": "stream",
     "text": [
      "1\n",
      "2\n",
      "3\n",
      "4\n",
      "5\n"
     ]
    }
   ],
   "source": [
    "i = 1\n",
    "while i < 6:\n",
    "  print(i)\n",
    "  i += 1"
   ]
  },
  {
   "cell_type": "code",
   "execution_count": 12,
   "id": "dc2cad6a",
   "metadata": {},
   "outputs": [
    {
     "name": "stdout",
     "output_type": "stream",
     "text": [
      "input a number 20\n",
      "5.0\n"
     ]
    }
   ],
   "source": [
    "try:\n",
    "    totals= 100 / int(input(\"input a number \"))\n",
    "except:\n",
    "    print(\"No No\")\n",
    "\n",
    "print(totals)"
   ]
  },
  {
   "cell_type": "code",
   "execution_count": 18,
   "id": "8983ab89",
   "metadata": {},
   "outputs": [],
   "source": [
    "a={}"
   ]
  },
  {
   "cell_type": "code",
   "execution_count": 20,
   "id": "11dbb914",
   "metadata": {},
   "outputs": [
    {
     "ename": "AttributeError",
     "evalue": "'dict' object has no attribute 'size'",
     "output_type": "error",
     "traceback": [
      "\u001b[1;31m---------------------------------------------------------------------------\u001b[0m",
      "\u001b[1;31mAttributeError\u001b[0m                            Traceback (most recent call last)",
      "Input \u001b[1;32mIn [20]\u001b[0m, in \u001b[0;36m<cell line: 1>\u001b[1;34m()\u001b[0m\n\u001b[1;32m----> 1\u001b[0m \u001b[43ma\u001b[49m\u001b[38;5;241;43m.\u001b[39;49m\u001b[43msize\u001b[49m\n",
      "\u001b[1;31mAttributeError\u001b[0m: 'dict' object has no attribute 'size'"
     ]
    }
   ],
   "source": []
  },
  {
   "cell_type": "code",
   "execution_count": null,
   "id": "171e1250",
   "metadata": {},
   "outputs": [],
   "source": []
  }
 ],
 "metadata": {
  "kernelspec": {
   "display_name": "Python 3 (ipykernel)",
   "language": "python",
   "name": "python3"
  },
  "language_info": {
   "codemirror_mode": {
    "name": "ipython",
    "version": 3
   },
   "file_extension": ".py",
   "mimetype": "text/x-python",
   "name": "python",
   "nbconvert_exporter": "python",
   "pygments_lexer": "ipython3",
   "version": "3.9.12"
  }
 },
 "nbformat": 4,
 "nbformat_minor": 5
}
