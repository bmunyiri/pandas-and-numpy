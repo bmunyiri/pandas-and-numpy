{
 "cells": [
  {
   "cell_type": "code",
   "execution_count": 2,
   "id": "0b8d4b35",
   "metadata": {},
   "outputs": [
    {
     "name": "stdout",
     "output_type": "stream",
     "text": [
      "         Date      City  Temperature (C)  Wind Speed (km/h)  Events\n",
      "0  2023-09-01  New York             33.6               16.1   Sunny\n",
      "1  2023-09-02  New York             33.5                7.6    Rain\n",
      "2  2023-09-03  New York             28.7               13.7    Snow\n",
      "3  2023-09-04  New York             25.7                5.2    Snow\n",
      "4  2023-09-05  New York             18.9                8.4   Sunny\n",
      "5  2023-09-01    London             18.1               13.3    Snow\n",
      "6  2023-09-02    London             22.6                2.6    Snow\n",
      "7  2023-09-03    London              6.1               13.8   Clear\n",
      "8  2023-09-04    London             25.1               12.3   Sunny\n",
      "9  2023-09-05    London             30.7                3.0   Clear\n",
      "10 2023-09-01   Nairobi             31.6               12.9  Cloudy\n",
      "11 2023-09-02   Nairobi             26.4               18.1    Snow\n",
      "12 2023-09-03   Nairobi             26.2                3.0  Cloudy\n",
      "13 2023-09-04   Nairobi             14.0                5.9    Rain\n",
      "14 2023-09-05   Nairobi             10.4                9.8    Rain\n"
     ]
    }
   ],
   "source": [
    "import pandas as pd\n",
    "import random\n",
    "\n",
    "# Create a list of cities and dates\n",
    "cities = ['New York', 'London', 'Nairobi']\n",
    "dates = pd.date_range(start='2023-09-01', periods=5, freq='D')\n",
    "\n",
    "# Create an empty DataFrame\n",
    "data = []\n",
    "\n",
    "# Generate random temperature, wind speed, and weather event data for each city and date\n",
    "for city in cities:\n",
    "    for date in dates:\n",
    "        temperature = round(random.uniform(0, 35), 1)  # Temperature in Celsius\n",
    "        wind_speed = round(random.uniform(0, 20), 1)    # Wind speed in km/h\n",
    "        events = random.choice(['Clear', 'Rain', 'Snow', 'Cloudy', 'Sunny'])\n",
    "        \n",
    "        data.append([date, city, temperature, wind_speed, events])\n",
    "\n",
    "# Create a DataFrame from the generated data\n",
    "df = pd.DataFrame(data, columns=['Date', 'City', 'Temperature (C)', 'Wind Speed (km/h)', 'Events'])\n",
    "\n",
    "# Print the DataFrame\n",
    "print(df)\n",
    "\n"
   ]
  },
  {
   "cell_type": "code",
   "execution_count": 3,
   "id": "96b1dd17",
   "metadata": {},
   "outputs": [],
   "source": [
    "z =df.groupby(\"City\")"
   ]
  },
  {
   "cell_type": "code",
   "execution_count": 4,
   "id": "28777df2",
   "metadata": {},
   "outputs": [
    {
     "name": "stdout",
     "output_type": "stream",
     "text": [
      "London\n",
      "        Date    City  Temperature (C)  Wind Speed (km/h) Events\n",
      "5 2023-09-01  London             18.1               13.3   Snow\n",
      "6 2023-09-02  London             22.6                2.6   Snow\n",
      "7 2023-09-03  London              6.1               13.8  Clear\n",
      "8 2023-09-04  London             25.1               12.3  Sunny\n",
      "9 2023-09-05  London             30.7                3.0  Clear\n",
      "Nairobi\n",
      "         Date     City  Temperature (C)  Wind Speed (km/h)  Events\n",
      "10 2023-09-01  Nairobi             31.6               12.9  Cloudy\n",
      "11 2023-09-02  Nairobi             26.4               18.1    Snow\n",
      "12 2023-09-03  Nairobi             26.2                3.0  Cloudy\n",
      "13 2023-09-04  Nairobi             14.0                5.9    Rain\n",
      "14 2023-09-05  Nairobi             10.4                9.8    Rain\n",
      "New York\n",
      "        Date      City  Temperature (C)  Wind Speed (km/h) Events\n",
      "0 2023-09-01  New York             33.6               16.1  Sunny\n",
      "1 2023-09-02  New York             33.5                7.6   Rain\n",
      "2 2023-09-03  New York             28.7               13.7   Snow\n",
      "3 2023-09-04  New York             25.7                5.2   Snow\n",
      "4 2023-09-05  New York             18.9                8.4  Sunny\n"
     ]
    }
   ],
   "source": [
    "for City, city_df in z:\n",
    "    print(City)\n",
    "    print(city_df)"
   ]
  },
  {
   "cell_type": "code",
   "execution_count": 6,
   "id": "431fa4db",
   "metadata": {},
   "outputs": [
    {
     "data": {
      "text/html": [
       "<div>\n",
       "<style scoped>\n",
       "    .dataframe tbody tr th:only-of-type {\n",
       "        vertical-align: middle;\n",
       "    }\n",
       "\n",
       "    .dataframe tbody tr th {\n",
       "        vertical-align: top;\n",
       "    }\n",
       "\n",
       "    .dataframe thead th {\n",
       "        text-align: right;\n",
       "    }\n",
       "</style>\n",
       "<table border=\"1\" class=\"dataframe\">\n",
       "  <thead>\n",
       "    <tr style=\"text-align: right;\">\n",
       "      <th></th>\n",
       "      <th>Date</th>\n",
       "      <th>City</th>\n",
       "      <th>Temperature (C)</th>\n",
       "      <th>Wind Speed (km/h)</th>\n",
       "      <th>Events</th>\n",
       "    </tr>\n",
       "  </thead>\n",
       "  <tbody>\n",
       "    <tr>\n",
       "      <th>0</th>\n",
       "      <td>2023-09-01</td>\n",
       "      <td>New York</td>\n",
       "      <td>33.6</td>\n",
       "      <td>16.1</td>\n",
       "      <td>Sunny</td>\n",
       "    </tr>\n",
       "    <tr>\n",
       "      <th>1</th>\n",
       "      <td>2023-09-02</td>\n",
       "      <td>New York</td>\n",
       "      <td>33.5</td>\n",
       "      <td>7.6</td>\n",
       "      <td>Rain</td>\n",
       "    </tr>\n",
       "    <tr>\n",
       "      <th>2</th>\n",
       "      <td>2023-09-03</td>\n",
       "      <td>New York</td>\n",
       "      <td>28.7</td>\n",
       "      <td>13.7</td>\n",
       "      <td>Snow</td>\n",
       "    </tr>\n",
       "    <tr>\n",
       "      <th>3</th>\n",
       "      <td>2023-09-04</td>\n",
       "      <td>New York</td>\n",
       "      <td>25.7</td>\n",
       "      <td>5.2</td>\n",
       "      <td>Snow</td>\n",
       "    </tr>\n",
       "    <tr>\n",
       "      <th>4</th>\n",
       "      <td>2023-09-05</td>\n",
       "      <td>New York</td>\n",
       "      <td>18.9</td>\n",
       "      <td>8.4</td>\n",
       "      <td>Sunny</td>\n",
       "    </tr>\n",
       "  </tbody>\n",
       "</table>\n",
       "</div>"
      ],
      "text/plain": [
       "        Date      City  Temperature (C)  Wind Speed (km/h) Events\n",
       "0 2023-09-01  New York             33.6               16.1  Sunny\n",
       "1 2023-09-02  New York             33.5                7.6   Rain\n",
       "2 2023-09-03  New York             28.7               13.7   Snow\n",
       "3 2023-09-04  New York             25.7                5.2   Snow\n",
       "4 2023-09-05  New York             18.9                8.4  Sunny"
      ]
     },
     "execution_count": 6,
     "metadata": {},
     "output_type": "execute_result"
    }
   ],
   "source": [
    "z.get_group(\"New York\")"
   ]
  },
  {
   "cell_type": "code",
   "execution_count": 7,
   "id": "4c6e4d2f",
   "metadata": {},
   "outputs": [
    {
     "data": {
      "text/html": [
       "<div>\n",
       "<style scoped>\n",
       "    .dataframe tbody tr th:only-of-type {\n",
       "        vertical-align: middle;\n",
       "    }\n",
       "\n",
       "    .dataframe tbody tr th {\n",
       "        vertical-align: top;\n",
       "    }\n",
       "\n",
       "    .dataframe thead th {\n",
       "        text-align: right;\n",
       "    }\n",
       "</style>\n",
       "<table border=\"1\" class=\"dataframe\">\n",
       "  <thead>\n",
       "    <tr style=\"text-align: right;\">\n",
       "      <th></th>\n",
       "      <th>Date</th>\n",
       "      <th>Temperature (C)</th>\n",
       "      <th>Wind Speed (km/h)</th>\n",
       "      <th>Events</th>\n",
       "    </tr>\n",
       "    <tr>\n",
       "      <th>City</th>\n",
       "      <th></th>\n",
       "      <th></th>\n",
       "      <th></th>\n",
       "      <th></th>\n",
       "    </tr>\n",
       "  </thead>\n",
       "  <tbody>\n",
       "    <tr>\n",
       "      <th>London</th>\n",
       "      <td>2023-09-05</td>\n",
       "      <td>30.7</td>\n",
       "      <td>13.8</td>\n",
       "      <td>Sunny</td>\n",
       "    </tr>\n",
       "    <tr>\n",
       "      <th>Nairobi</th>\n",
       "      <td>2023-09-05</td>\n",
       "      <td>31.6</td>\n",
       "      <td>18.1</td>\n",
       "      <td>Snow</td>\n",
       "    </tr>\n",
       "    <tr>\n",
       "      <th>New York</th>\n",
       "      <td>2023-09-05</td>\n",
       "      <td>33.6</td>\n",
       "      <td>16.1</td>\n",
       "      <td>Sunny</td>\n",
       "    </tr>\n",
       "  </tbody>\n",
       "</table>\n",
       "</div>"
      ],
      "text/plain": [
       "               Date  Temperature (C)  Wind Speed (km/h) Events\n",
       "City                                                          \n",
       "London   2023-09-05             30.7               13.8  Sunny\n",
       "Nairobi  2023-09-05             31.6               18.1   Snow\n",
       "New York 2023-09-05             33.6               16.1  Sunny"
      ]
     },
     "execution_count": 7,
     "metadata": {},
     "output_type": "execute_result"
    }
   ],
   "source": [
    "z.max()"
   ]
  },
  {
   "cell_type": "code",
   "execution_count": 8,
   "id": "d98bb580",
   "metadata": {},
   "outputs": [
    {
     "data": {
      "text/html": [
       "<div>\n",
       "<style scoped>\n",
       "    .dataframe tbody tr th:only-of-type {\n",
       "        vertical-align: middle;\n",
       "    }\n",
       "\n",
       "    .dataframe tbody tr th {\n",
       "        vertical-align: top;\n",
       "    }\n",
       "\n",
       "    .dataframe thead th {\n",
       "        text-align: right;\n",
       "    }\n",
       "</style>\n",
       "<table border=\"1\" class=\"dataframe\">\n",
       "  <thead>\n",
       "    <tr style=\"text-align: right;\">\n",
       "      <th></th>\n",
       "      <th>Temperature (C)</th>\n",
       "      <th>Wind Speed (km/h)</th>\n",
       "    </tr>\n",
       "    <tr>\n",
       "      <th>City</th>\n",
       "      <th></th>\n",
       "      <th></th>\n",
       "    </tr>\n",
       "  </thead>\n",
       "  <tbody>\n",
       "    <tr>\n",
       "      <th>London</th>\n",
       "      <td>20.52</td>\n",
       "      <td>9.00</td>\n",
       "    </tr>\n",
       "    <tr>\n",
       "      <th>Nairobi</th>\n",
       "      <td>21.72</td>\n",
       "      <td>9.94</td>\n",
       "    </tr>\n",
       "    <tr>\n",
       "      <th>New York</th>\n",
       "      <td>28.08</td>\n",
       "      <td>10.20</td>\n",
       "    </tr>\n",
       "  </tbody>\n",
       "</table>\n",
       "</div>"
      ],
      "text/plain": [
       "          Temperature (C)  Wind Speed (km/h)\n",
       "City                                        \n",
       "London              20.52               9.00\n",
       "Nairobi             21.72               9.94\n",
       "New York            28.08              10.20"
      ]
     },
     "execution_count": 8,
     "metadata": {},
     "output_type": "execute_result"
    }
   ],
   "source": [
    "z.mean()"
   ]
  },
  {
   "cell_type": "code",
   "execution_count": null,
   "id": "70db6ded",
   "metadata": {},
   "outputs": [],
   "source": []
  }
 ],
 "metadata": {
  "kernelspec": {
   "display_name": "Python 3 (ipykernel)",
   "language": "python",
   "name": "python3"
  },
  "language_info": {
   "codemirror_mode": {
    "name": "ipython",
    "version": 3
   },
   "file_extension": ".py",
   "mimetype": "text/x-python",
   "name": "python",
   "nbconvert_exporter": "python",
   "pygments_lexer": "ipython3",
   "version": "3.9.12"
  }
 },
 "nbformat": 4,
 "nbformat_minor": 5
}
